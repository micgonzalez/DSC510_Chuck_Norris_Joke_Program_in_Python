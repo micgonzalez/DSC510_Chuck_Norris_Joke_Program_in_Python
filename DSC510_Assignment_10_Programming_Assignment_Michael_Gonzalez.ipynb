{
 "cells": [
  {
   "cell_type": "markdown",
   "metadata": {},
   "source": [
    "Michael Gonzalez"
   ]
  },
  {
   "cell_type": "markdown",
   "metadata": {},
   "source": []
  },
  {
   "cell_type": "markdown",
   "metadata": {},
   "source": [
    "### Assignment 10 Programming Assignment (40 Points)"
   ]
  },
  {
   "cell_type": "markdown",
   "metadata": {},
   "source": [
    "We’ve already looked at several examples of API integration from a Python perspective and this week we’re going to write a program that uses an open API to obtain data for the end user.\n",
    "\n",
    "    Create a program which makes a GET request of the following API: Chuck Norris Jokes.\n",
    "    The program will receive a JSON response which includes various pieces of data. You should parse the JSON data to obtain the “value” key. The data associated with the value key should be displayed for the user (i.e., the joke).\n",
    "    Your program should allow the user to request a Chuck Norris joke as many times as they would like. You should make sure that your program does error checking at this point. If you ask the user to enter “Y” and they enter y, is that ok? Does it fail? If it fails, display a message for the user. There are other ways to handle this. Think about included string functions you might be able to call.\n",
    "    Your program must include a header as in previous weeks.\n",
    "    Your program must include a welcome message for the user.\n",
    "    Your program must generate “pretty” output. Simply dumping a bunch of data to the screen with no context doesn’t represent “pretty.”\n"
   ]
  },
  {
   "cell_type": "code",
   "execution_count": null,
   "metadata": {},
   "outputs": [],
   "source": [
    "// File: DSC510 Assignment 10.pdf\n",
    "// Name: Michael Gonzalez\n",
    "// Date: 2/14/2019\n",
    "// Course: DSC 510 - Introduction to Programming\n",
    "// Desc: This program will connect via a get request of a chuck norris joke APi until they don't want to see anymore jokes. \n",
    "// Usage: This program will connect via a get request of a chuck norris joke APi until they don't want to see anymore jokes. \n",
    "\n",
    "import requests\n",
    "\n",
    "\n",
    "welcome = input(\"Welcome to the C. N. Joke Program\")\n",
    "\n",
    "# requesting the joke and displaying the joke in pretty output \n",
    "def jokes():\n",
    "    url = 'https://api.chucknorris.io/jokes/random'\n",
    "    json_data = requests.get(url).json()\n",
    "    formatted_data = json_data['value']\n",
    "    print(formatted_data)\n",
    "\n",
    "    question = input('Want to do another joke? Type Yes or No: ')\n",
    "    if question == 'Yes':\n",
    "        main()\n",
    "    if question == 'No':\n",
    "        print(\"Good Bye!\")\n",
    "        exit()\n",
    "\n",
    "# defining main function with while loop code to run the program\n",
    "def main():\n",
    "    while True:\n",
    "        answer = input(\"Would you like to hear a joke? Please type y or n: \")\n",
    "        if answer == 'y':\n",
    "            try:\n",
    "                jokes()\n",
    "            except Exception:\n",
    "                print(\"Sorry. The joke program is not working.\")\n",
    "\n",
    "        if answer == 'n':\n",
    "            print(\"See you later!\")\n",
    "            exit()\n",
    "\n",
    "main()"
   ]
  },
  {
   "cell_type": "code",
   "execution_count": null,
   "metadata": {},
   "outputs": [],
   "source": []
  }
 ],
 "metadata": {
  "kernelspec": {
   "display_name": "Python 3",
   "language": "python",
   "name": "python3"
  },
  "language_info": {
   "codemirror_mode": {
    "name": "ipython",
    "version": 3
   },
   "file_extension": ".py",
   "mimetype": "text/x-python",
   "name": "python",
   "nbconvert_exporter": "python",
   "pygments_lexer": "ipython3",
   "version": "3.6.5"
  }
 },
 "nbformat": 4,
 "nbformat_minor": 2
}
